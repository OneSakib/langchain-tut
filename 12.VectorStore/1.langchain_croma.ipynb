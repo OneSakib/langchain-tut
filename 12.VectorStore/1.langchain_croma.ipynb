{
 "cells": [
  {
   "cell_type": "code",
   "execution_count": null,
   "id": "46fcdcfb",
   "metadata": {},
   "outputs": [],
   "source": [
    "! pip install langchain chromadb openai tiktoken pypdf langchain_openai langchain-community"
   ]
  },
  {
   "cell_type": "code",
   "execution_count": 4,
   "id": "d139aa5f",
   "metadata": {},
   "outputs": [],
   "source": [
    "from langchain_openai import OpenAIEmbeddings\n",
    "from langchain.vectorstores import Chroma"
   ]
  },
  {
   "cell_type": "code",
   "execution_count": 5,
   "id": "c4eb9046",
   "metadata": {},
   "outputs": [],
   "source": [
    "from langchain.schema import Document\n",
    "# create langhcain docuemtn for IPL cricket \n",
    "doc1 = Document(\n",
    "        page_content=\"Virat Kohli is one of the most successful and consistent batsmen in IPL history. Known for his aggressive batting style and fitness, he has led the Royal Challengers Bangalore in multiple seasons.\",\n",
    "        metadata={\"team\": \"Royal Challengers Bangalore\"}\n",
    "    )\n",
    "doc2 = Document(\n",
    "        page_content=\"Rohit Sharma is the most successful captain in IPL history, leading Mumbai Indians to five titles. He's known for his calm demeanor and ability to play big innings under pressure.\",\n",
    "        metadata={\"team\": \"Mumbai Indians\"}\n",
    "    )\n",
    "doc3 = Document(\n",
    "        page_content=\"MS Dhoni, famously known as Captain Cool, has led Chennai Super Kings to multiple IPL titles. His finishing skills, wicketkeeping, and leadership are legendary.\",\n",
    "        metadata={\"team\": \"Chennai Super Kings\"}\n",
    "    )\n",
    "doc4 = Document(\n",
    "        page_content=\"Jasprit Bumrah is considered one of the best fast bowlers in T20 cricket. Playing for Mumbai Indians, he is known for his yorkers and death-over expertise.\",\n",
    "        metadata={\"team\": \"Mumbai Indians\"}\n",
    "    )\n",
    "doc5 = Document(\n",
    "        page_content=\"Ravindra Jadeja is a dynamic all-rounder who contributes with both bat and ball. Representing Chennai Super Kings, his quick fielding and match-winning performances make him a key player.\",\n",
    "        metadata={\"team\": \"Chennai Super Kings\"}\n",
    "    )\n"
   ]
  },
  {
   "cell_type": "code",
   "execution_count": 6,
   "id": "95daf40f",
   "metadata": {},
   "outputs": [],
   "source": [
    "docs=[doc1,doc2,doc3,doc4,doc5]"
   ]
  },
  {
   "cell_type": "code",
   "execution_count": 7,
   "id": "ded8ed43",
   "metadata": {},
   "outputs": [
    {
     "name": "stderr",
     "output_type": "stream",
     "text": [
      "C:\\Users\\malik\\AppData\\Local\\Temp\\ipykernel_13664\\3006770413.py:1: LangChainDeprecationWarning: The class `Chroma` was deprecated in LangChain 0.2.9 and will be removed in 1.0. An updated version of the class exists in the :class:`~langchain-chroma package and should be used instead. To use it run `pip install -U :class:`~langchain-chroma` and import as `from :class:`~langchain_chroma import Chroma``.\n",
      "  vector_store=Chroma(\n"
     ]
    }
   ],
   "source": [
    "vector_store=Chroma(\n",
    "    embedding_function=OpenAIEmbeddings(),\n",
    "    persist_directory='chroma_db',\n",
    "    collection_name='sample'\n",
    ")"
   ]
  },
  {
   "cell_type": "code",
   "execution_count": 8,
   "id": "94cdcfda",
   "metadata": {},
   "outputs": [
    {
     "data": {
      "text/plain": [
       "['58fe3fd0-ca5b-45f0-ac09-e3faf04ab3a3',\n",
       " '4ac6f279-1e1b-42f0-9f28-c23bd1ba661f',\n",
       " '1bb7b4c6-8ba0-467a-8f18-ee8d7b0a5dc0',\n",
       " '3af9c454-e50e-466d-b280-2930527db8f5',\n",
       " 'ec59fd94-6301-4c7e-8a1a-f0b30f1b3b6b']"
      ]
     },
     "execution_count": 8,
     "metadata": {},
     "output_type": "execute_result"
    }
   ],
   "source": [
    "vector_store.add_documents(docs)"
   ]
  },
  {
   "cell_type": "code",
   "execution_count": 9,
   "id": "819ced33",
   "metadata": {},
   "outputs": [
    {
     "data": {
      "text/plain": [
       "{'ids': ['58fe3fd0-ca5b-45f0-ac09-e3faf04ab3a3',\n",
       "  '4ac6f279-1e1b-42f0-9f28-c23bd1ba661f',\n",
       "  '1bb7b4c6-8ba0-467a-8f18-ee8d7b0a5dc0',\n",
       "  '3af9c454-e50e-466d-b280-2930527db8f5',\n",
       "  'ec59fd94-6301-4c7e-8a1a-f0b30f1b3b6b'],\n",
       " 'embeddings': array([[-0.00210453, -0.00214285,  0.0268    , ..., -0.01707893,\n",
       "         -0.00366616,  0.01357884],\n",
       "        [-0.00268021, -0.00010323,  0.02815653, ..., -0.01501936,\n",
       "          0.00590092, -0.01164922],\n",
       "        [ 0.00092799, -0.00476   ,  0.0124662 , ..., -0.01731381,\n",
       "          0.00075886,  0.00296567],\n",
       "        [-0.02714536,  0.00885395,  0.02699314, ..., -0.02592762,\n",
       "          0.00900617, -0.01999116],\n",
       "        [-0.01810451,  0.01281202,  0.0347942 , ..., -0.03034012,\n",
       "         -0.00595078,  0.00521716]]),\n",
       " 'documents': ['Virat Kohli is one of the most successful and consistent batsmen in IPL history. Known for his aggressive batting style and fitness, he has led the Royal Challengers Bangalore in multiple seasons.',\n",
       "  \"Rohit Sharma is the most successful captain in IPL history, leading Mumbai Indians to five titles. He's known for his calm demeanor and ability to play big innings under pressure.\",\n",
       "  'MS Dhoni, famously known as Captain Cool, has led Chennai Super Kings to multiple IPL titles. His finishing skills, wicketkeeping, and leadership are legendary.',\n",
       "  'Jasprit Bumrah is considered one of the best fast bowlers in T20 cricket. Playing for Mumbai Indians, he is known for his yorkers and death-over expertise.',\n",
       "  'Ravindra Jadeja is a dynamic all-rounder who contributes with both bat and ball. Representing Chennai Super Kings, his quick fielding and match-winning performances make him a key player.'],\n",
       " 'uris': None,\n",
       " 'included': ['embeddings', 'documents', 'metadatas'],\n",
       " 'data': None,\n",
       " 'metadatas': [{'team': 'Royal Challengers Bangalore'},\n",
       "  {'team': 'Mumbai Indians'},\n",
       "  {'team': 'Chennai Super Kings'},\n",
       "  {'team': 'Mumbai Indians'},\n",
       "  {'team': 'Chennai Super Kings'}]}"
      ]
     },
     "execution_count": 9,
     "metadata": {},
     "output_type": "execute_result"
    }
   ],
   "source": [
    "vector_store.get(include=['embeddings','documents','metadatas'])"
   ]
  },
  {
   "cell_type": "code",
   "execution_count": 10,
   "id": "c7e537c0",
   "metadata": {},
   "outputs": [
    {
     "data": {
      "text/plain": [
       "[Document(metadata={'team': 'Mumbai Indians'}, page_content='Jasprit Bumrah is considered one of the best fast bowlers in T20 cricket. Playing for Mumbai Indians, he is known for his yorkers and death-over expertise.'),\n",
       " Document(metadata={'team': 'Chennai Super Kings'}, page_content='Ravindra Jadeja is a dynamic all-rounder who contributes with both bat and ball. Representing Chennai Super Kings, his quick fielding and match-winning performances make him a key player.')]"
      ]
     },
     "execution_count": 10,
     "metadata": {},
     "output_type": "execute_result"
    }
   ],
   "source": [
    "vector_store.similarity_search(query=\"Who among these a bowler?\",k=2)"
   ]
  },
  {
   "cell_type": "code",
   "execution_count": 11,
   "id": "880dfc12",
   "metadata": {},
   "outputs": [
    {
     "data": {
      "text/plain": [
       "[(Document(metadata={'team': 'Mumbai Indians'}, page_content='Jasprit Bumrah is considered one of the best fast bowlers in T20 cricket. Playing for Mumbai Indians, he is known for his yorkers and death-over expertise.'),\n",
       "  0.33643054962158203),\n",
       " (Document(metadata={'team': 'Chennai Super Kings'}, page_content='Ravindra Jadeja is a dynamic all-rounder who contributes with both bat and ball. Representing Chennai Super Kings, his quick fielding and match-winning performances make him a key player.'),\n",
       "  0.39137348532676697)]"
      ]
     },
     "execution_count": 11,
     "metadata": {},
     "output_type": "execute_result"
    }
   ],
   "source": [
    "vector_store.similarity_search_with_score(query=\"Who among these a bowler?\",k=2)"
   ]
  },
  {
   "cell_type": "code",
   "execution_count": 13,
   "id": "82fade6f",
   "metadata": {},
   "outputs": [
    {
     "data": {
      "text/plain": [
       "[(Document(metadata={'team': 'Chennai Super Kings'}, page_content='MS Dhoni, famously known as Captain Cool, has led Chennai Super Kings to multiple IPL titles. His finishing skills, wicketkeeping, and leadership are legendary.'),\n",
       "  0.6488258242607117)]"
      ]
     },
     "execution_count": 13,
     "metadata": {},
     "output_type": "execute_result"
    }
   ],
   "source": [
    "vector_store.similarity_search_with_score(\n",
    "    query=\"\",\n",
    "    filter={\"team\":\"Chennai Super Kings\"},\n",
    "    k=1\n",
    ")"
   ]
  },
  {
   "cell_type": "code",
   "execution_count": 14,
   "id": "1bec8ec6",
   "metadata": {},
   "outputs": [],
   "source": [
    "updated_doc1 = Document(\n",
    "    page_content=\"Virat Kohli, the former captain of Royal Challengers Bangalore (RCB), is renowned for his aggressive leadership and consistent batting performances. He holds the record for the most runs in IPL history, including multiple centuries in a single season. Despite RCB not winning an IPL title under his captaincy, Kohli's passion and fitness set a benchmark for the league. His ability to chase targets and anchor innings has made him one of the most dependable players in T20 cricket.\",\n",
    "    metadata={\"team\": \"Royal Challengers Bangalore\"}\n",
    ")\n",
    "vector_store.update_document(document_id='58fe3fd0-ca5b-45f0-ac09-e3faf04ab3a3',document=updated_doc1)"
   ]
  },
  {
   "cell_type": "code",
   "execution_count": 16,
   "id": "bcb1966c",
   "metadata": {},
   "outputs": [
    {
     "data": {
      "text/plain": [
       "{'ids': ['58fe3fd0-ca5b-45f0-ac09-e3faf04ab3a3',\n",
       "  '4ac6f279-1e1b-42f0-9f28-c23bd1ba661f',\n",
       "  '1bb7b4c6-8ba0-467a-8f18-ee8d7b0a5dc0',\n",
       "  '3af9c454-e50e-466d-b280-2930527db8f5',\n",
       "  'ec59fd94-6301-4c7e-8a1a-f0b30f1b3b6b'],\n",
       " 'embeddings': array([[-0.00544442, -0.01907989,  0.00706373, ..., -0.01627786,\n",
       "         -0.00032134,  0.00724619],\n",
       "        [-0.00268021, -0.00010323,  0.02815653, ..., -0.01501936,\n",
       "          0.00590092, -0.01164922],\n",
       "        [ 0.00092799, -0.00476   ,  0.0124662 , ..., -0.01731381,\n",
       "          0.00075886,  0.00296567],\n",
       "        [-0.02714536,  0.00885395,  0.02699314, ..., -0.02592762,\n",
       "          0.00900617, -0.01999116],\n",
       "        [-0.01810451,  0.01281202,  0.0347942 , ..., -0.03034012,\n",
       "         -0.00595078,  0.00521716]]),\n",
       " 'documents': [\"Virat Kohli, the former captain of Royal Challengers Bangalore (RCB), is renowned for his aggressive leadership and consistent batting performances. He holds the record for the most runs in IPL history, including multiple centuries in a single season. Despite RCB not winning an IPL title under his captaincy, Kohli's passion and fitness set a benchmark for the league. His ability to chase targets and anchor innings has made him one of the most dependable players in T20 cricket.\",\n",
       "  \"Rohit Sharma is the most successful captain in IPL history, leading Mumbai Indians to five titles. He's known for his calm demeanor and ability to play big innings under pressure.\",\n",
       "  'MS Dhoni, famously known as Captain Cool, has led Chennai Super Kings to multiple IPL titles. His finishing skills, wicketkeeping, and leadership are legendary.',\n",
       "  'Jasprit Bumrah is considered one of the best fast bowlers in T20 cricket. Playing for Mumbai Indians, he is known for his yorkers and death-over expertise.',\n",
       "  'Ravindra Jadeja is a dynamic all-rounder who contributes with both bat and ball. Representing Chennai Super Kings, his quick fielding and match-winning performances make him a key player.'],\n",
       " 'uris': None,\n",
       " 'included': ['embeddings', 'documents', 'metadatas'],\n",
       " 'data': None,\n",
       " 'metadatas': [{'team': 'Royal Challengers Bangalore'},\n",
       "  {'team': 'Mumbai Indians'},\n",
       "  {'team': 'Chennai Super Kings'},\n",
       "  {'team': 'Mumbai Indians'},\n",
       "  {'team': 'Chennai Super Kings'}]}"
      ]
     },
     "execution_count": 16,
     "metadata": {},
     "output_type": "execute_result"
    }
   ],
   "source": [
    "vector_store.get(include=['embeddings','documents','metadatas'])"
   ]
  },
  {
   "cell_type": "code",
   "execution_count": null,
   "id": "b36b361c",
   "metadata": {},
   "outputs": [],
   "source": []
  }
 ],
 "metadata": {
  "kernelspec": {
   "display_name": "venv",
   "language": "python",
   "name": "python3"
  },
  "language_info": {
   "codemirror_mode": {
    "name": "ipython",
    "version": 3
   },
   "file_extension": ".py",
   "mimetype": "text/x-python",
   "name": "python",
   "nbconvert_exporter": "python",
   "pygments_lexer": "ipython3",
   "version": "3.11.0"
  }
 },
 "nbformat": 4,
 "nbformat_minor": 5
}
